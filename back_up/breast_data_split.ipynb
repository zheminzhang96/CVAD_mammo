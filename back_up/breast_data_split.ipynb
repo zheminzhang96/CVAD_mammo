{
 "cells": [
  {
   "cell_type": "code",
   "execution_count": 1,
   "metadata": {},
   "outputs": [],
   "source": [
    "import splitfolders \n",
    "import os"
   ]
  },
  {
   "cell_type": "code",
   "execution_count": 2,
   "metadata": {},
   "outputs": [
    {
     "data": {
      "text/plain": [
       "11913"
      ]
     },
     "execution_count": 2,
     "metadata": {},
     "output_type": "execute_result"
    }
   ],
   "source": [
    "dir = '/mnt/storage/breast_cancer_kaggle/images_data/data_png/total_png'\n",
    "total_images = os.listdir(dir)\n",
    "len(total_images)"
   ]
  },
  {
   "cell_type": "code",
   "execution_count": 8,
   "metadata": {},
   "outputs": [
    {
     "name": "stdout",
     "output_type": "stream",
     "text": [
      "['24608', '14814', '2460', '292', '59008', '9989', '34192', '1948', '44136', '3915']\n"
     ]
    }
   ],
   "source": [
    "try_dir = '/mnt/storage/breast_cancer_kaggle/images_data/data_png/try_f/'\n",
    "try_images = os.listdir(try_dir)\n",
    "len(try_images)\n",
    "print(try_images)"
   ]
  },
  {
   "cell_type": "code",
   "execution_count": 12,
   "metadata": {},
   "outputs": [
    {
     "name": "stdout",
     "output_type": "stream",
     "text": [
      "test list ['2460', '9989']\n",
      "['24608', '14814', '292', '59008', '34192', '1948', '44136', '3915']\n",
      "val list ['34192', '1948']\n",
      "['24608', '14814', '292', '59008', '44136', '3915']\n"
     ]
    }
   ],
   "source": [
    "import random \n",
    "test_list = random.choices(try_images, k = int(0.2*len(try_images)))\n",
    "print('test list', test_list)\n",
    "remain_list = [i for i in try_images if i not in test_list]\n",
    "print(remain_list)\n",
    "val_list = random.choices(remain_list, k = int(0.2*len(try_images)))\n",
    "print('val list', val_list)\n",
    "remain_list = [i for i in remain_list if i not in val_list]\n",
    "print(remain_list)"
   ]
  },
  {
   "cell_type": "code",
   "execution_count": 16,
   "metadata": {},
   "outputs": [],
   "source": [
    "test_path = []"
   ]
  },
  {
   "cell_type": "code",
   "execution_count": 17,
   "metadata": {},
   "outputs": [
    {
     "name": "stdout",
     "output_type": "stream",
     "text": [
      "/mnt/storage/breast_cancer_kaggle/images_data/data_png/try_f/2460/\n",
      "/mnt/storage/breast_cancer_kaggle/images_data/data_png/try_f/9989/\n"
     ]
    },
    {
     "data": {
      "text/plain": [
       "['/mnt/storage/breast_cancer_kaggle/images_data/data_png/try_f/2460/859578255.png',\n",
       " '/mnt/storage/breast_cancer_kaggle/images_data/data_png/try_f/2460/1258092255.png',\n",
       " '/mnt/storage/breast_cancer_kaggle/images_data/data_png/try_f/2460/612483566.png',\n",
       " '/mnt/storage/breast_cancer_kaggle/images_data/data_png/try_f/2460/465607433.png',\n",
       " '/mnt/storage/breast_cancer_kaggle/images_data/data_png/try_f/9989/63473691.png',\n",
       " '/mnt/storage/breast_cancer_kaggle/images_data/data_png/try_f/9989/398038886.png',\n",
       " '/mnt/storage/breast_cancer_kaggle/images_data/data_png/try_f/9989/439796429.png',\n",
       " '/mnt/storage/breast_cancer_kaggle/images_data/data_png/try_f/9989/1078943060.png']"
      ]
     },
     "execution_count": 17,
     "metadata": {},
     "output_type": "execute_result"
    }
   ],
   "source": [
    "for i in range(len(test_list)):\n",
    "    test_p = try_dir + test_list[i] + '/'\n",
    "    images_list = os.listdir(test_p)\n",
    "    print(test_p)\n",
    "    for j in images_list:\n",
    "        test_p_i = test_p + j\n",
    "        test_path.append(test_p_i)\n",
    "test_path"
   ]
  },
  {
   "cell_type": "code",
   "execution_count": 13,
   "metadata": {},
   "outputs": [
    {
     "data": {
      "text/plain": [
       "['673454318.png', '212477447.png', '1806062093.png', '1671990772.png']"
      ]
     },
     "execution_count": 13,
     "metadata": {},
     "output_type": "execute_result"
    }
   ],
   "source": [
    "os.listdir('/mnt/storage/breast_cancer_kaggle/images_data/data_png/try_f/1948')"
   ]
  }
 ],
 "metadata": {
  "kernelspec": {
   "display_name": "base",
   "language": "python",
   "name": "python3"
  },
  "language_info": {
   "codemirror_mode": {
    "name": "ipython",
    "version": 3
   },
   "file_extension": ".py",
   "mimetype": "text/x-python",
   "name": "python",
   "nbconvert_exporter": "python",
   "pygments_lexer": "ipython3",
   "version": "3.9.18"
  },
  "orig_nbformat": 4
 },
 "nbformat": 4,
 "nbformat_minor": 2
}
